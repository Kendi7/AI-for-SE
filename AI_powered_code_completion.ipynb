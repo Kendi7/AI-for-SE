{
  "nbformat": 4,
  "nbformat_minor": 0,
  "metadata": {
    "colab": {
      "provenance": [],
      "authorship_tag": "ABX9TyOi4d82x842wthNz440g6nl",
      "include_colab_link": true
    },
    "kernelspec": {
      "name": "python3",
      "display_name": "Python 3"
    },
    "language_info": {
      "name": "python"
    }
  },
  "cells": [
    {
      "cell_type": "markdown",
      "metadata": {
        "id": "view-in-github",
        "colab_type": "text"
      },
      "source": [
        "<a href=\"https://colab.research.google.com/github/Kendi7/AI-for-SE/blob/main/AI_powered_code_completion.ipynb\" target=\"_parent\"><img src=\"https://colab.research.google.com/assets/colab-badge.svg\" alt=\"Open In Colab\"/></a>"
      ]
    },
    {
      "cell_type": "markdown",
      "source": [
        "# Task 1: AI-Powered Code **Completion**"
      ],
      "metadata": {
        "id": "tHSgg9ejSeCo"
      }
    },
    {
      "cell_type": "markdown",
      "source": [
        "Manual **Implementation**"
      ],
      "metadata": {
        "id": "-4XlsnuwS21Q"
      }
    },
    {
      "cell_type": "code",
      "execution_count": 2,
      "metadata": {
        "id": "xSxwwUZjSNkm"
      },
      "outputs": [],
      "source": [
        "def sort_dict_list(data, key):\n",
        "    \"\"\"\n",
        "    Sort a list of dictionaries by a specified key.\n",
        "\n",
        "    Args:\n",
        "        data (list): List of dictionaries.\n",
        "        key (str): The key to sort by.\n",
        "\n",
        "    Returns:\n",
        "        list: Sorted list of dictionaries.\n",
        "    \"\"\"\n",
        "    return sorted(data, key=lambda x: x[key])\n"
      ]
    },
    {
      "cell_type": "markdown",
      "source": [
        "Copilot-Suggested **Implementation**"
      ],
      "metadata": {
        "id": "tH2MYoUBTPQR"
      }
    },
    {
      "cell_type": "code",
      "source": [
        "def sort_dict_list_by_key(dict_list, sort_key):\n",
        "    \"\"\"\n",
        "    Sort a list of dictionaries by a specified key, using .get() for added robustness.\n",
        "\n",
        "    Args:\n",
        "        dict_list (list): List of dictionaries.\n",
        "        sort_key (str): The key to sort by.\n",
        "\n",
        "    Returns:\n",
        "        list: Sorted list of dictionaries.\n",
        "    \"\"\"\n",
        "    sorted_list = sorted(dict_list, key=lambda item: item.get(sort_key))\n",
        "    return sorted_list\n"
      ],
      "metadata": {
        "id": "B7v0Is_nWG-M"
      },
      "execution_count": 3,
      "outputs": []
    },
    {
      "cell_type": "markdown",
      "source": [
        "🧪 Test Example"
      ],
      "metadata": {
        "id": "zu8c3QIZWTX5"
      }
    },
    {
      "cell_type": "code",
      "source": [
        "test_data = [\n",
        "    {\"name\": \"Alice\", \"age\": 30, \"score\": 95.5},\n",
        "    {\"name\": \"Bob\", \"age\": 25, \"score\": 87.2},\n",
        "    {\"name\": \"Charlie\", \"age\": 35, \"score\": 92.8},\n",
        "    {\"name\": \"Diana\", \"age\": 28, \"score\": 89.1}\n",
        "]\n",
        "\n",
        "# Using both functions\n",
        "print(\"Manual Sort by age:\", sort_dict_list(test_data, \"age\"))\n",
        "print(\"Copilot Sort by name:\", sort_dict_list_by_key(test_data, \"name\"))\n"
      ],
      "metadata": {
        "colab": {
          "base_uri": "https://localhost:8080/"
        },
        "id": "OW1RrvVgXp2G",
        "outputId": "a6bab4c4-f98a-4bb9-c448-3d950854fa7c"
      },
      "execution_count": 4,
      "outputs": [
        {
          "output_type": "stream",
          "name": "stdout",
          "text": [
            "Manual Sort by age: [{'name': 'Bob', 'age': 25, 'score': 87.2}, {'name': 'Diana', 'age': 28, 'score': 89.1}, {'name': 'Alice', 'age': 30, 'score': 95.5}, {'name': 'Charlie', 'age': 35, 'score': 92.8}]\n",
            "Copilot Sort by name: [{'name': 'Alice', 'age': 30, 'score': 95.5}, {'name': 'Bob', 'age': 25, 'score': 87.2}, {'name': 'Charlie', 'age': 35, 'score': 92.8}, {'name': 'Diana', 'age': 28, 'score': 89.1}]\n"
          ]
        }
      ]
    },
    {
      "cell_type": "markdown",
      "source": [
        "📊 c. **Analysis**"
      ],
      "metadata": {
        "id": "3NTeKDj2X-Cx"
      }
    },
    {
      "cell_type": "markdown",
      "source": [
        "Both implementations successfully sort a list of dictionaries based on a specified key. The manual version uses a straightforward lambda function that directly accesses the key (x[key]). This is efficient and clean but assumes the key exists in all dictionary entries. If not, it throws a KeyError.\n",
        "\n",
        "In contrast, the Copilot-suggested implementation uses .get() within the lambda. This is more robust—it avoids errors if some dictionaries are missing the specified key. It’s especially helpful in real-world applications where datasets can be messy or inconsistent.\n",
        "\n",
        "From a performance standpoint, both functions use Python’s built-in sorted() and have a time complexity of O(n log n). However, the Copilot version has better defensive programming and clearer variable naming (dict_list, sort_key), enhancing readability and maintainability.\n",
        "\n",
        "Overall, the manual version is leaner, better suited for clean, controlled data environments. The Copilot version is safer, ideal for dynamic, user-generated, or semi-structured data.\n",
        "\n",
        "➡️ Best Practice Recommendation: Use the Copilot-style function in production for error resilience, but combine it with manual checks when performance or data consistency is guaranteed. This shows the value of AI in accelerating coding while underscoring the importance of human refinement.\n",
        "\n"
      ],
      "metadata": {
        "id": "jBPDXj2fYMZ9"
      }
    }
  ]
}